{
  "nbformat": 4,
  "nbformat_minor": 0,
  "metadata": {
    "colab": {
      "provenance": []
    },
    "kernelspec": {
      "name": "python3",
      "display_name": "Python 3"
    },
    "language_info": {
      "name": "python"
    }
  },
  "cells": [
    {
      "cell_type": "code",
      "source": [],
      "metadata": {
        "id": "H0g0nnwpfJHS"
      },
      "execution_count": null,
      "outputs": []
    },
    {
      "cell_type": "code",
      "source": [
        "from google.colab import drive\n",
        "drive.mount('/content/drive')"
      ],
      "metadata": {
        "colab": {
          "base_uri": "https://localhost:8080/"
        },
        "id": "TZ7-fDVvfKI9",
        "outputId": "8b92de1b-15d2-46dd-b418-e2e1b50dfbfb"
      },
      "execution_count": null,
      "outputs": [
        {
          "output_type": "stream",
          "name": "stdout",
          "text": [
            "Mounted at /content/drive\n"
          ]
        }
      ]
    },
    {
      "cell_type": "code",
      "execution_count": null,
      "metadata": {
        "id": "EhM4HJoMfDuk"
      },
      "outputs": [],
      "source": [
        "import os\n",
        "import numpy as np\n",
        "from PIL import Image\n"
      ]
    },
    {
      "cell_type": "code",
      "source": [
        "def load_images_from_directory(data_path, label):\n",
        "    images = []\n",
        "    labels = []\n",
        "    \n",
        "    for filename in os.listdir(data_path):\n",
        "        img_path = os.path.join(data_path, filename)\n",
        "        img = Image.open(img_path).convert('L') # Convert to grayscale\n",
        "        img_array = np.array(img) / 255.0 # Normalize pixel values\n",
        "        images.append(img_array)\n",
        "        labels.append(label)\n",
        "    \n",
        "    return images, labels\n"
      ],
      "metadata": {
        "id": "E-clDdgJfH4S"
      },
      "execution_count": null,
      "outputs": []
    },
    {
      "cell_type": "code",
      "source": [
        "train_path = \"/content/drive/MyDrive/GurNum/train\"\n",
        "val_path = \"/content/drive/MyDrive/GurNum/val\"\n",
        "\n",
        "X_train, y_train = [], []\n",
        "X_val, y_val = [], []\n",
        "\n",
        "for i in range(10):\n",
        "    train_data_path = os.path.join(train_path, str(i))\n",
        "    val_data_path = os.path.join(val_path, str(i))\n",
        "    \n",
        "    train_images, train_labels = load_images_from_directory(train_data_path, i)\n",
        "    val_images, val_labels = load_images_from_directory(val_data_path, i)\n",
        "    \n",
        "    X_train.extend(train_images)\n",
        "    y_train.extend(train_labels)\n",
        "    X_val.extend(val_images)\n",
        "    y_val.extend(val_labels)\n",
        "\n",
        "X_train = np.array(X_train).reshape(-1, 32*32)\n",
        "X_val = np.array(X_val).reshape(-1, 32*32)\n",
        "y_train = np.array(y_train)\n",
        "y_val = np.array(y_val)\n"
      ],
      "metadata": {
        "id": "BWvfIMqXfY93"
      },
      "execution_count": null,
      "outputs": []
    },
    {
      "cell_type": "code",
      "source": [
        "print(f\"X TRAIN: {X_train.shape}\")\n",
        "print(f\"Y TRAIN: {y_train.shape}\")\n",
        "print(f\"X VAL: {X_val.shape}\")\n",
        "print(f\"Y TRAIN: {y_val.shape}\")"
      ],
      "metadata": {
        "colab": {
          "base_uri": "https://localhost:8080/"
        },
        "id": "xe2d1pVkh_ax",
        "outputId": "fbf35e3d-625b-481b-cb83-74ac76fb7c9f"
      },
      "execution_count": null,
      "outputs": [
        {
          "output_type": "stream",
          "name": "stdout",
          "text": [
            "X TRAIN: (1000, 1024)\n",
            "Y TRAIN: (1000,)\n",
            "X VAL: (178, 1024)\n",
            "Y TRAIN: (178,)\n"
          ]
        }
      ]
    },
    {
      "cell_type": "code",
      "source": [
        "from tensorflow.keras.utils import to_categorical\n",
        "\n",
        "y_train = to_categorical(y_train, num_classes=10)\n",
        "y_val = to_categorical(y_val, num_classes=10)\n"
      ],
      "metadata": {
        "id": "J1ZrMpXafhCr"
      },
      "execution_count": null,
      "outputs": []
    },
    {
      "cell_type": "code",
      "source": [
        "print(f\"X VAL: {X_val.shape}\")\n",
        "print(f\"Y TRAIN: {y_val.shape}\")"
      ],
      "metadata": {
        "colab": {
          "base_uri": "https://localhost:8080/"
        },
        "id": "UZ8lXdUuiQR7",
        "outputId": "ab6917f4-d7fd-45a1-9a35-2ffd1da6058f"
      },
      "execution_count": null,
      "outputs": [
        {
          "output_type": "stream",
          "name": "stdout",
          "text": [
            "X VAL: (178, 1024)\n",
            "Y TRAIN: (178, 10)\n"
          ]
        }
      ]
    },
    {
      "cell_type": "code",
      "source": [
        "import tensorflow as tf\n",
        "from tensorflow.keras.models import Sequential\n",
        "from tensorflow.keras.layers import Dense\n",
        "\n",
        "def create_model():\n",
        "    model = Sequential()\n",
        "    model.add(Dense(128, input_dim=1024, activation='relu'))  # Input layer\n",
        "    model.add(Dense(64, activation='relu'))  # Hidden layer\n",
        "    model.add(Dense(10, activation='softmax'))  # Output layer\n",
        "    model.compile(loss='categorical_crossentropy', optimizer='adam', metrics=['accuracy'])\n",
        "    return model\n",
        "\n",
        "model = create_model()\n"
      ],
      "metadata": {
        "id": "8Aqq9OaIf4C5"
      },
      "execution_count": null,
      "outputs": []
    },
    {
      "cell_type": "code",
      "source": [
        "history = model.fit(X_train, y_train, epochs=20, batch_size=32, validation_data=(X_val, y_val))"
      ],
      "metadata": {
        "colab": {
          "base_uri": "https://localhost:8080/"
        },
        "id": "QXizxn5qf92t",
        "outputId": "bb481fa6-d832-4cb8-ec3e-8956271988bc"
      },
      "execution_count": null,
      "outputs": [
        {
          "output_type": "stream",
          "name": "stdout",
          "text": [
            "Epoch 1/20\n",
            "32/32 [==============================] - 1s 11ms/step - loss: 1.1967 - accuracy: 0.6450 - val_loss: 0.6442 - val_accuracy: 0.8539\n",
            "Epoch 2/20\n",
            "32/32 [==============================] - 0s 5ms/step - loss: 0.2956 - accuracy: 0.9170 - val_loss: 0.3796 - val_accuracy: 0.8876\n",
            "Epoch 3/20\n",
            "32/32 [==============================] - 0s 6ms/step - loss: 0.1773 - accuracy: 0.9480 - val_loss: 0.3179 - val_accuracy: 0.9157\n",
            "Epoch 4/20\n",
            "32/32 [==============================] - 0s 5ms/step - loss: 0.1123 - accuracy: 0.9710 - val_loss: 0.2978 - val_accuracy: 0.9157\n",
            "Epoch 5/20\n",
            "32/32 [==============================] - 0s 5ms/step - loss: 0.0795 - accuracy: 0.9840 - val_loss: 0.2619 - val_accuracy: 0.9326\n",
            "Epoch 6/20\n",
            "32/32 [==============================] - 0s 5ms/step - loss: 0.0501 - accuracy: 0.9920 - val_loss: 0.2605 - val_accuracy: 0.9382\n",
            "Epoch 7/20\n",
            "32/32 [==============================] - 0s 5ms/step - loss: 0.0450 - accuracy: 0.9920 - val_loss: 0.2096 - val_accuracy: 0.9382\n",
            "Epoch 8/20\n",
            "32/32 [==============================] - 0s 6ms/step - loss: 0.0383 - accuracy: 0.9940 - val_loss: 0.2909 - val_accuracy: 0.9270\n",
            "Epoch 9/20\n",
            "32/32 [==============================] - 0s 5ms/step - loss: 0.0262 - accuracy: 0.9960 - val_loss: 0.2189 - val_accuracy: 0.9438\n",
            "Epoch 10/20\n",
            "32/32 [==============================] - 0s 5ms/step - loss: 0.0149 - accuracy: 1.0000 - val_loss: 0.2279 - val_accuracy: 0.9382\n",
            "Epoch 11/20\n",
            "32/32 [==============================] - 0s 8ms/step - loss: 0.0134 - accuracy: 0.9990 - val_loss: 0.2456 - val_accuracy: 0.9494\n",
            "Epoch 12/20\n",
            "32/32 [==============================] - 0s 9ms/step - loss: 0.0205 - accuracy: 0.9970 - val_loss: 0.2409 - val_accuracy: 0.9382\n",
            "Epoch 13/20\n",
            "32/32 [==============================] - 0s 9ms/step - loss: 0.0127 - accuracy: 0.9990 - val_loss: 0.2235 - val_accuracy: 0.9438\n",
            "Epoch 14/20\n",
            "32/32 [==============================] - 0s 9ms/step - loss: 0.0091 - accuracy: 1.0000 - val_loss: 0.2299 - val_accuracy: 0.9438\n",
            "Epoch 15/20\n",
            "32/32 [==============================] - 0s 8ms/step - loss: 0.0054 - accuracy: 1.0000 - val_loss: 0.2322 - val_accuracy: 0.9438\n",
            "Epoch 16/20\n",
            "32/32 [==============================] - 0s 9ms/step - loss: 0.0066 - accuracy: 0.9990 - val_loss: 0.2311 - val_accuracy: 0.9382\n",
            "Epoch 17/20\n",
            "32/32 [==============================] - 0s 9ms/step - loss: 0.0041 - accuracy: 1.0000 - val_loss: 0.2223 - val_accuracy: 0.9438\n",
            "Epoch 18/20\n",
            "32/32 [==============================] - 0s 8ms/step - loss: 0.0029 - accuracy: 1.0000 - val_loss: 0.2266 - val_accuracy: 0.9494\n",
            "Epoch 19/20\n",
            "32/32 [==============================] - 0s 8ms/step - loss: 0.0026 - accuracy: 1.0000 - val_loss: 0.2253 - val_accuracy: 0.9438\n",
            "Epoch 20/20\n",
            "32/32 [==============================] - 0s 8ms/step - loss: 0.0024 - accuracy: 1.0000 - val_loss: 0.2311 - val_accuracy: 0.9494\n"
          ]
        }
      ]
    },
    {
      "cell_type": "code",
      "source": [
        "val_loss, val_acc = model.evaluate(X_val, y_val)\n",
        "print(f\"Validation Loss: {val_loss}\")\n",
        "print(f\"Validation Accuracy: {val_acc}\")\n"
      ],
      "metadata": {
        "colab": {
          "base_uri": "https://localhost:8080/"
        },
        "id": "JipyjbcYgP-q",
        "outputId": "0a7c41a9-9607-4105-80fc-d6f05182a2c6"
      },
      "execution_count": null,
      "outputs": [
        {
          "output_type": "stream",
          "name": "stdout",
          "text": [
            "6/6 [==============================] - 0s 3ms/step - loss: 0.2311 - accuracy: 0.9494\n",
            "Validation Loss: 0.23105914890766144\n",
            "Validation Accuracy: 0.949438214302063\n"
          ]
        }
      ]
    },
    {
      "cell_type": "markdown",
      "source": [
        "### FROM THE SCRATCH"
      ],
      "metadata": {
        "id": "T7YcH71mhf8l"
      }
    },
    {
      "cell_type": "code",
      "source": [
        "import numpy as np\n"
      ],
      "metadata": {
        "id": "4_xcC7LxgVMU"
      },
      "execution_count": null,
      "outputs": []
    },
    {
      "cell_type": "code",
      "source": [
        "def sigmoid(x):\n",
        "    return 1 / (1 + np.exp(-x))\n",
        "\n",
        "def sigmoid_derivative(x):\n",
        "    return x * (1 - x)\n",
        "\n",
        "def softmax(x):\n",
        "    exp_x = np.exp(x - np.max(x))\n",
        "    return exp_x / exp_x.sum(axis=1, keepdims=True)\n"
      ],
      "metadata": {
        "id": "6yTFMz4yhiq6"
      },
      "execution_count": null,
      "outputs": []
    },
    {
      "cell_type": "code",
      "source": [
        "class NeuralNetwork:\n",
        "    def __init__(self, input_size, hidden_size, output_size):\n",
        "        self.W1 = np.random.randn(input_size, hidden_size)\n",
        "        self.b1 = np.zeros((1, hidden_size))\n",
        "        self.W2 = np.random.randn(hidden_size, output_size)\n",
        "        self.b2 = np.zeros((1, output_size))\n",
        "\n",
        "    def forward(self, X):\n",
        "        self.Z1 = np.dot(X, self.W1) + self.b1\n",
        "        self.A1 = sigmoid(self.Z1)\n",
        "        self.Z2 = np.dot(self.A1, self.W2) + self.b2\n",
        "        self.A2 = softmax(self.Z2)\n",
        "        return self.A2\n",
        "\n",
        "    def backward(self, X, y, learning_rate):\n",
        "        m = X.shape[0]\n",
        "        dZ2 = self.A2 - y\n",
        "        dW2 = 1 / m * np.dot(self.A1.T, dZ2)\n",
        "        db2 = 1 / m * np.sum(dZ2, axis=0, keepdims=True)\n",
        "        dA1 = np.dot(dZ2, self.W2.T)\n",
        "        dZ1 = dA1 * sigmoid_derivative(self.A1)\n",
        "        dW1 = 1 / m * np.dot(X.T, dZ1)\n",
        "        db1 = 1 / m * np.sum(dZ1, axis=0, keepdims=True)\n",
        "\n",
        "        self.W1 -= learning_rate * dW1\n",
        "        self.b1 -= learning_rate * db1\n",
        "        self.W2 -= learning_rate * dW2\n",
        "        self.b2 -= learning_rate * db2\n",
        "\n",
        "    def train(self, X, y, epochs, learning_rate):\n",
        "        for epoch in range(epochs):\n",
        "            y_pred = self.forward(X)\n",
        "            self.backward(X, y, learning_rate)\n"
      ],
      "metadata": {
        "id": "iW72cRSwhjxS"
      },
      "execution_count": null,
      "outputs": []
    },
    {
      "cell_type": "code",
      "source": [
        "input_size = 1024\n",
        "hidden_size = 64\n",
        "output_size = 10\n",
        "\n",
        "nn = NeuralNetwork(input_size, hidden_size, output_size)\n",
        "nn.train(X_train, y_train, epochs=1000, learning_rate=0.01)\n"
      ],
      "metadata": {
        "id": "-ozhWLS0hnZu"
      },
      "execution_count": null,
      "outputs": []
    },
    {
      "cell_type": "code",
      "source": [
        "def evaluate(model, X, y):\n",
        "    y_pred = model.forward(X)\n",
        "    y_pred_labels = np.argmax(y_pred, axis=1)\n",
        "    y_true_labels = np.argmax(y, axis=1)\n",
        "    accuracy = np.mean(y_pred_labels == y_true_labels)\n",
        "    return accuracy"
      ],
      "metadata": {
        "id": "KvoQPmjihqNH"
      },
      "execution_count": null,
      "outputs": []
    },
    {
      "cell_type": "code",
      "source": [
        "accuracy = evaluate(nn, X_val, y_val)\n",
        "print(f\"Validation Accuracy: {accuracy}\")\n"
      ],
      "metadata": {
        "colab": {
          "base_uri": "https://localhost:8080/"
        },
        "id": "oM7JYqQAhwnv",
        "outputId": "e15e9c5c-270c-4689-acf0-8c6fc98f89c3"
      },
      "execution_count": null,
      "outputs": [
        {
          "output_type": "stream",
          "name": "stdout",
          "text": [
            "Validation Accuracy: 0.34831460674157305\n"
          ]
        }
      ]
    },
    {
      "cell_type": "code",
      "source": [],
      "metadata": {
        "id": "B24Oo6eGhyDT"
      },
      "execution_count": null,
      "outputs": []
    }
  ]
}