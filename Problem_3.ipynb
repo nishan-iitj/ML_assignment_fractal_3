{
  "nbformat": 4,
  "nbformat_minor": 0,
  "metadata": {
    "colab": {
      "provenance": []
    },
    "kernelspec": {
      "name": "python3",
      "display_name": "Python 3"
    },
    "language_info": {
      "name": "python"
    },
    "accelerator": "GPU",
    "gpuClass": "standard"
  },
  "cells": [
    {
      "cell_type": "code",
      "execution_count": null,
      "metadata": {
        "id": "jgWBsE1dlADR"
      },
      "outputs": [],
      "source": []
    },
    {
      "cell_type": "code",
      "source": [
        "from google.colab import drive\n",
        "drive.mount('/content/drive')"
      ],
      "metadata": {
        "colab": {
          "base_uri": "https://localhost:8080/"
        },
        "id": "J3rqwLW3FtcP",
        "outputId": "ccce9fc2-2e48-4ce0-fc34-391794c3dd18"
      },
      "execution_count": null,
      "outputs": [
        {
          "output_type": "stream",
          "name": "stdout",
          "text": [
            "Drive already mounted at /content/drive; to attempt to forcibly remount, call drive.mount(\"/content/drive\", force_remount=True).\n"
          ]
        }
      ]
    },
    {
      "cell_type": "code",
      "source": [
        "import os\n",
        "import pandas as pd\n",
        "import numpy as np\n",
        "from PIL import Image\n",
        "import tensorflow as tf\n",
        "from sklearn.model_selection import train_test_split\n",
        "from tensorflow.keras.models import Sequential\n",
        "from tensorflow.keras.layers import Conv2D, MaxPooling2D, Flatten, Dense, Dropout"
      ],
      "metadata": {
        "id": "0gc_lMn3Fujf"
      },
      "execution_count": null,
      "outputs": []
    },
    {
      "cell_type": "code",
      "source": [
        "data[\"type\"].value_counts()"
      ],
      "metadata": {
        "colab": {
          "base_uri": "https://localhost:8080/"
        },
        "id": "1Bc94BvYGJqL",
        "outputId": "9b6a1a71-1030-40bb-ac73-be09006dfff6"
      },
      "execution_count": null,
      "outputs": [
        {
          "output_type": "execute_result",
          "data": {
            "text/plain": [
              "vbar_categorical    200\n",
              "hbar_categorical    200\n",
              "line                200\n",
              "pie                 200\n",
              "dot_line            200\n",
              "Name: type, dtype: int64"
            ]
          },
          "metadata": {},
          "execution_count": 5
        }
      ]
    },
    {
      "cell_type": "markdown",
      "source": [
        "## TASK 1"
      ],
      "metadata": {
        "id": "nS16C3yJVmmr"
      }
    },
    {
      "cell_type": "code",
      "source": [
        "train_val_path = \"/content/drive/MyDrive/charts/train_val\"\n",
        "train_val_csv = \"/content/drive/MyDrive/charts/train_val.csv\"\n",
        "\n",
        "label_mapping = {\n",
        "    \"line\": 0,\n",
        "    \"dot_line\": 1,\n",
        "    \"hbar_categorical\": 2,\n",
        "    \"vbar_categorical\": 3,\n",
        "    \"pie\": 4\n",
        "}\n",
        "\n",
        "\n",
        "data = pd.read_csv(train_val_csv)\n",
        "\n",
        "X = []\n",
        "y = []\n",
        "\n",
        "for index, row in data.iterrows():\n",
        "    img_path = os.path.join(train_val_path, str(row['image_index'])+\".png\")\n",
        "    img = Image.open(img_path).convert('RGB')\n",
        "    img_array = np.array(img) / 255.0\n",
        "    X.append(img_array)\n",
        "    y.append(label_mapping[row['type']])\n",
        "\n",
        "X = np.array(X)\n",
        "y = np.array(y)\n",
        "\n",
        "X_train, X_val, y_train, y_val = train_test_split(X, y, test_size=0.2, random_state=42)\n"
      ],
      "metadata": {
        "id": "JAsQY3tZF_YD"
      },
      "execution_count": null,
      "outputs": []
    },
    {
      "cell_type": "code",
      "source": [
        "y_train = tf.keras.utils.to_categorical(y_train, num_classes=5)\n",
        "y_val = tf.keras.utils.to_categorical(y_val, num_classes=5)\n"
      ],
      "metadata": {
        "id": "GCEqXs7fGrnI"
      },
      "execution_count": null,
      "outputs": []
    },
    {
      "cell_type": "markdown",
      "source": [
        "## TASK 2"
      ],
      "metadata": {
        "id": "_Q485YpfVok5"
      }
    },
    {
      "cell_type": "code",
      "source": [
        "def create_model():\n",
        "    model = Sequential()\n",
        "    model.add(Conv2D(32, (3, 3), activation='relu', input_shape=(X_train.shape[1:])))\n",
        "    model.add(MaxPooling2D((2, 2)))\n",
        "    model.add(Conv2D(64, (3, 3), activation='relu'))\n",
        "    model.add(MaxPooling2D((2, 2)))\n",
        "    model.add(Flatten())\n",
        "    model.add(Dense(64, activation='relu'))\n",
        "    model.add(Dropout(0.5))\n",
        "    model.add(Dense(5, activation='softmax'))\n",
        "    model.compile(optimizer='adam', loss='categorical_crossentropy', metrics=['accuracy'])\n",
        "    return model\n",
        "\n",
        "model = create_model()\n"
      ],
      "metadata": {
        "id": "pBf_d6lfGFyN"
      },
      "execution_count": null,
      "outputs": []
    },
    {
      "cell_type": "code",
      "source": [
        "history = model.fit(X_train, y_train, epochs=20, batch_size=32, validation_data=(X_val, y_val))"
      ],
      "metadata": {
        "colab": {
          "base_uri": "https://localhost:8080/"
        },
        "id": "NZJMUBpeSIsw",
        "outputId": "46aff1b7-8d92-442c-fbec-93b662fc9fec"
      },
      "execution_count": null,
      "outputs": [
        {
          "output_type": "stream",
          "name": "stdout",
          "text": [
            "Epoch 1/20\n",
            "25/25 [==============================] - 6s 33ms/step - loss: 2.2159 - accuracy: 0.4212 - val_loss: 0.8008 - val_accuracy: 0.7100\n",
            "Epoch 2/20\n",
            "25/25 [==============================] - 0s 18ms/step - loss: 0.6511 - accuracy: 0.7000 - val_loss: 0.4339 - val_accuracy: 0.7750\n",
            "Epoch 3/20\n",
            "25/25 [==============================] - 0s 18ms/step - loss: 0.5159 - accuracy: 0.7650 - val_loss: 0.3486 - val_accuracy: 0.8200\n",
            "Epoch 4/20\n",
            "25/25 [==============================] - 0s 17ms/step - loss: 0.4153 - accuracy: 0.7975 - val_loss: 0.2880 - val_accuracy: 0.9000\n",
            "Epoch 5/20\n",
            "25/25 [==============================] - 0s 17ms/step - loss: 0.3251 - accuracy: 0.8338 - val_loss: 0.2445 - val_accuracy: 0.9150\n",
            "Epoch 6/20\n",
            "25/25 [==============================] - 0s 19ms/step - loss: 0.2807 - accuracy: 0.8900 - val_loss: 0.2046 - val_accuracy: 0.9350\n",
            "Epoch 7/20\n",
            "25/25 [==============================] - 0s 18ms/step - loss: 0.2807 - accuracy: 0.8737 - val_loss: 0.1844 - val_accuracy: 0.9350\n",
            "Epoch 8/20\n",
            "25/25 [==============================] - 0s 18ms/step - loss: 0.2404 - accuracy: 0.8988 - val_loss: 0.1410 - val_accuracy: 0.9550\n",
            "Epoch 9/20\n",
            "25/25 [==============================] - 0s 18ms/step - loss: 0.1991 - accuracy: 0.9200 - val_loss: 0.1232 - val_accuracy: 0.9550\n",
            "Epoch 10/20\n",
            "25/25 [==============================] - 0s 17ms/step - loss: 0.1488 - accuracy: 0.9488 - val_loss: 0.0829 - val_accuracy: 0.9850\n",
            "Epoch 11/20\n",
            "25/25 [==============================] - 0s 18ms/step - loss: 0.1129 - accuracy: 0.9625 - val_loss: 0.0544 - val_accuracy: 0.9850\n",
            "Epoch 12/20\n",
            "25/25 [==============================] - 0s 17ms/step - loss: 0.1138 - accuracy: 0.9563 - val_loss: 0.0735 - val_accuracy: 0.9700\n",
            "Epoch 13/20\n",
            "25/25 [==============================] - 0s 17ms/step - loss: 0.1148 - accuracy: 0.9588 - val_loss: 0.0443 - val_accuracy: 0.9850\n",
            "Epoch 14/20\n",
            "25/25 [==============================] - 0s 18ms/step - loss: 0.0947 - accuracy: 0.9688 - val_loss: 0.0398 - val_accuracy: 0.9850\n",
            "Epoch 15/20\n",
            "25/25 [==============================] - 0s 18ms/step - loss: 0.0871 - accuracy: 0.9750 - val_loss: 0.0354 - val_accuracy: 0.9950\n",
            "Epoch 16/20\n",
            "25/25 [==============================] - 0s 18ms/step - loss: 0.0714 - accuracy: 0.9750 - val_loss: 0.0274 - val_accuracy: 0.9900\n",
            "Epoch 17/20\n",
            "25/25 [==============================] - 0s 18ms/step - loss: 0.0802 - accuracy: 0.9750 - val_loss: 0.0381 - val_accuracy: 0.9850\n",
            "Epoch 18/20\n",
            "25/25 [==============================] - 0s 18ms/step - loss: 0.0729 - accuracy: 0.9775 - val_loss: 0.0290 - val_accuracy: 0.9900\n",
            "Epoch 19/20\n",
            "25/25 [==============================] - 0s 17ms/step - loss: 0.0702 - accuracy: 0.9750 - val_loss: 0.0357 - val_accuracy: 0.9850\n",
            "Epoch 20/20\n",
            "25/25 [==============================] - 0s 18ms/step - loss: 0.0487 - accuracy: 0.9875 - val_loss: 0.0160 - val_accuracy: 0.9950\n"
          ]
        }
      ]
    },
    {
      "cell_type": "code",
      "source": [
        "val_loss, val_acc = model.evaluate(X_val, y_val)\n",
        "print(f\"Validation Loss: {val_loss}\")\n",
        "print(f\"Validation Accuracy: {val_acc}\")"
      ],
      "metadata": {
        "colab": {
          "base_uri": "https://localhost:8080/"
        },
        "id": "knoQu8b0SLQY",
        "outputId": "37352427-d177-4142-ccb3-a15741d54b9d"
      },
      "execution_count": null,
      "outputs": [
        {
          "output_type": "stream",
          "name": "stdout",
          "text": [
            "7/7 [==============================] - 0s 11ms/step - loss: 0.0160 - accuracy: 0.9950\n",
            "Validation Loss: 0.016045700758695602\n",
            "Validation Accuracy: 0.9950000047683716\n"
          ]
        }
      ]
    },
    {
      "cell_type": "markdown",
      "source": [
        "Here are the observations:\n",
        "\n",
        "The training loss decreases consistently over the 20 epochs, showing that the model is learning from the training data and improving its performance over time.\n",
        "\n",
        "The validation loss also decreases over the 20 epochs, but there are some small fluctuations. Overall, the validation loss is very low, and the model performs well on the validation dataset.\n",
        "\n",
        "The validation accuracy also increases over time, reaching an impressive 99.5% by the end of the 20 epochs. This suggests that the model generalizes well and is able to correctly classify the chart types in the validation dataset.\n",
        "\n",
        "The model converges quite fast, with most of the improvement in performance happening within the first 10-15 epochs. This might indicate that the learning rate of the optimizer (Adam in this case) is appropriate for this problem, and the model architecture is suitable for the task.\n",
        "\n",
        "The two-layer CNN seems to be sufficient for this classification task, as it yields high accuracy on both the training and validation datasets. However, further experimentation with different architectures, hyperparameters, and regularization techniques can be done to check if there's still room for improvement.\n",
        "\n",
        "Overall, the two-layer CNN model has performed well on this classification task, achieving high accuracy on both training and validation datasets. The model seems to generalize well, and the training and validation losses are consistently decreasing throughout the training process."
      ],
      "metadata": {
        "id": "6g1m_uyDVSz6"
      }
    },
    {
      "cell_type": "code",
      "source": [
        "import matplotlib.pyplot as plt\n",
        "\n",
        "plt.plot(history.history['loss'], label='Training Loss')\n",
        "plt.plot(history.history['val_loss'], label='Validation Loss')\n",
        "plt.xlabel('Epoch')\n",
        "plt.ylabel('Loss')\n",
        "plt.legend()\n",
        "plt.show()\n"
      ],
      "metadata": {
        "colab": {
          "base_uri": "https://localhost:8080/",
          "height": 449
        },
        "id": "6PncyBQXU4AX",
        "outputId": "d6a95fb9-7b5b-4811-d7eb-675965b1f9f7"
      },
      "execution_count": null,
      "outputs": [
        {
          "output_type": "display_data",
          "data": {
            "text/plain": [
              "<Figure size 640x480 with 1 Axes>"
            ],
            "image/png": "[encoded data removed]"
          },
          "metadata": {}
        }
      ]
    },
    {
      "cell_type": "markdown",
      "source": [
        "## TASK 3"
      ],
      "metadata": {
        "id": "R7Oce8H5Vqj3"
      }
    },
    {
      "cell_type": "code",
      "source": [
        "!pip install tf-models-official\n"
      ],
      "metadata": {
        "id": "fiNZZ9O0U4Vm"
      },
      "execution_count": null,
      "outputs": []
    },
    {
      "cell_type": "code",
      "source": [
        "import os\n",
        "import pandas as pd\n",
        "import numpy as np\n",
        "from PIL import Image\n",
        "import tensorflow as tf\n",
        "from sklearn.model_selection import train_test_split\n",
        "from official.vision.image_classification import alexnet\n",
        "from tensorflow.keras.layers import GlobalAveragePooling2D, Dense\n",
        "from tensorflow.keras.models import Model\n",
        "\n",
        "input_shape = (224, 224, 3)\n",
        "\n",
        "# Load the base AlexNet model\n",
        "base_alexnet = alexnet.model(num_classes=1000, input_shape=input_shape)\n",
        "\n",
        "# Modify the base AlexNet model for our specific problem\n",
        "x = base_alexnet.layers[-2].output\n",
        "x = GlobalAveragePooling2D()(x)\n",
        "output_layer = Dense(5, activation='softmax')(x)\n",
        "\n",
        "pretrained_alexnet = Model(inputs=base_alexnet.input, outputs=output_layer)\n"
      ],
      "metadata": {
        "id": "tgdMVPDmVzPu"
      },
      "execution_count": null,
      "outputs": []
    },
    {
      "cell_type": "code",
      "source": [
        "!pip install torch torchvision"
      ],
      "metadata": {
        "id": "TY2gonZyYVuK"
      },
      "execution_count": null,
      "outputs": []
    },
    {
      "cell_type": "code",
      "source": [
        "import torch\n",
        "import torchvision.models as models\n",
        "\n",
        "# Load the pretrained AlexNet model\n",
        "pretrained_alexnet = models.alexnet(pretrained=True)\n",
        "\n",
        "# Modify the last layer to have 5 output classes instead of 1000 (ImageNet classes)\n",
        "num_classes = 5\n",
        "pretrained_alexnet.classifier[6] = torch.nn.Linear(in_features=4096, out_features=num_classes, bias=True)\n",
        "\n",
        "print(pretrained_alexnet)\n"
      ],
      "metadata": {
        "id": "CHxKdwkXXauH"
      },
      "execution_count": null,
      "outputs": []
    },
    {
      "cell_type": "code",
      "source": [
        "import os\n",
        "import pandas as pd\n",
        "from PIL import Image\n",
        "import torch\n",
        "from torch.utils.data import Dataset\n",
        "from torchvision.transforms import Resize, ToTensor, Normalize\n",
        "\n",
        "class ChartDataset(Dataset):\n",
        "    def __init__(self, data_dir, labels_csv, transform=None):\n",
        "        self.data_dir = data_dir\n",
        "        self.labels = pd.read_csv(labels_csv)\n",
        "        self.transform = transform\n",
        "\n",
        "    def __len__(self):\n",
        "        return len(self.labels)\n",
        "\n",
        "    def __getitem__(self, idx):\n",
        "        print(os.path.join(self.data_dir, str(self.labels.iloc[idx, 0])+\".png\"))\n",
        "        img_name = os.path.join(self.data_dir, str(self.labels.iloc[idx, 0])+\".png\")\n",
        "        image = Image.open(img_name).convert(\"RGB\")\n",
        "        label = torch.tensor(label_mapping[self.labels.iloc[idx, 1]], dtype=torch.long)\n",
        "\n",
        "        if self.transform:\n",
        "            image = self.transform(image)\n",
        "\n",
        "        return image, label\n"
      ],
      "metadata": {
        "id": "7KKAjQQkXjdr"
      },
      "execution_count": null,
      "outputs": []
    },
    {
      "cell_type": "code",
      "source": [
        "from torch.utils.data import DataLoader\n",
        "from sklearn.model_selection import train_test_split\n",
        "import torchvision\n",
        "\n",
        "# Define the data transformations\n",
        "data_transforms = torchvision.transforms.Compose([\n",
        "    Resize((224, 224)),\n",
        "    ToTensor(),\n",
        "    Normalize(mean=[0.485, 0.456, 0.406], std=[0.229, 0.224, 0.225])\n",
        "])\n",
        "\n",
        "# Create the dataset instances\n",
        "data_dir = \"/content/drive/MyDrive/charts/train_val\"\n",
        "labels_csv = \"/content/drive/MyDrive/charts/train_val.csv\"\n",
        "dataset = ChartDataset(data_dir, labels_csv, transform=data_transforms)\n",
        "\n",
        "# Split the data into training and validation sets\n",
        "train_data, val_data = train_test_split(dataset, test_size=0.2, random_state=42)\n",
        "\n",
        "# Create the DataLoaders\n",
        "train_loader = DataLoader(train_data, batch_size=32, shuffle=True, num_workers=2)\n",
        "val_loader = DataLoader(val_data, batch_size=32, shuffle=False, num_workers=2)\n"
      ],
      "metadata": {
        "id": "UjdsAEVrYL_A"
      },
      "execution_count": null,
      "outputs": []
    },
    {
      "cell_type": "code",
      "source": [
        "import torch.optim as optim\n",
        "import torch.nn.functional as F\n",
        "\n",
        "device = torch.device(\"cuda:0\" if torch.cuda.is_available() else \"cpu\")\n",
        "pretrained_alexnet.to(device)\n",
        "\n",
        "# Set the loss function and optimizer\n",
        "criterion = torch.nn.CrossEntropyLoss()\n",
        "optimizer = optim.SGD(pretrained_alexnet.parameters(), lr=0.001, momentum=0.9)\n",
        "\n",
        "# Training loop\n",
        "num_epochs = 20\n",
        "for epoch in range(num_epochs):\n",
        "    running_loss = 0.0\n",
        "    for i, (inputs, labels) in enumerate(train_loader, 0):\n",
        "        inputs, labels = inputs.to(device), labels.to(device)\n",
        "\n",
        "        optimizer.zero_grad()\n",
        "\n",
        "        outputs = pretrained_alexnet(inputs)\n",
        "        loss = criterion(outputs, labels)\n",
        "        loss.backward()\n",
        "        optimizer.step()\n",
        "\n",
        "        running_loss += loss.item()\n",
        "\n",
        "    # Print the average loss for this epoch\n",
        "    print(f\"Epoch {epoch + 1}, Loss: {running_loss / (i + 1)}\")\n",
        "\n",
        "print(\"Finished training\")\n"
      ],
      "metadata": {
        "colab": {
          "base_uri": "https://localhost:8080/"
        },
        "id": "np7SYe_wYQ-j",
        "outputId": "82ece221-a989-427d-ff4d-3b5a6488e392"
      },
      "execution_count": null,
      "outputs": [
        {
          "output_type": "stream",
          "name": "stdout",
          "text": [
            "Epoch 1, Loss: 0.2996642329805763\n",
            "Epoch 2, Loss: 0.024821746881425497\n",
            "Epoch 3, Loss: 0.00285320860628417\n",
            "Epoch 4, Loss: 0.0006085026282744366\n",
            "Epoch 5, Loss: 0.0006321120685151982\n",
            "Epoch 6, Loss: 0.0004512445058753656\n",
            "Epoch 7, Loss: 8.461053449849487e-05\n",
            "Epoch 8, Loss: 6.012466148149542e-05\n",
            "Epoch 9, Loss: 9.408634364945101e-05\n",
            "Epoch 10, Loss: 4.4545304099301575e-05\n",
            "Epoch 11, Loss: 3.808840588590101e-05\n",
            "Epoch 12, Loss: 5.248352489161334e-05\n",
            "Epoch 13, Loss: 2.7994633931029967e-05\n",
            "Epoch 14, Loss: 3.4670314948925804e-05\n",
            "Epoch 15, Loss: 3.8269421461336604e-05\n",
            "Epoch 16, Loss: 2.4022578791118577e-05\n",
            "Epoch 17, Loss: 2.736884510341042e-05\n",
            "Epoch 18, Loss: 4.109363920179021e-05\n",
            "Epoch 19, Loss: 0.0001629970156204763\n",
            "Epoch 20, Loss: 4.625793140121459e-05\n",
            "Finished training\n"
          ]
        }
      ]
    },
    {
      "cell_type": "code",
      "source": [
        "correct = 0\n",
        "total = 0\n",
        "with torch.no_grad():\n",
        "    for images, labels in val_loader:\n",
        "        images, labels = images.to(device), labels.to(device)\n",
        "        outputs = pretrained_alexnet(images)\n",
        "        _, predicted = torch.max(outputs.data, 1)\n",
        "        total += labels.size(0)\n",
        "        correct += (predicted == labels).sum().item()\n",
        "\n",
        "print(f\"Accuracy on the validation set: {100 * correct / total}%\")"
      ],
      "metadata": {
        "colab": {
          "base_uri": "https://localhost:8080/"
        },
        "id": "fGmCzdTXZiXl",
        "outputId": "20e54455-0391-4046-c28d-145f3d8810aa"
      },
      "execution_count": null,
      "outputs": [
        {
          "output_type": "stream",
          "name": "stdout",
          "text": [
            "Accuracy on the validation set: 100.0%\n"
          ]
        }
      ]
    },
    {
      "cell_type": "code",
      "source": [],
      "metadata": {
        "id": "wNUJGmG_Zn2B"
      },
      "execution_count": null,
      "outputs": []
    }
  ]
}